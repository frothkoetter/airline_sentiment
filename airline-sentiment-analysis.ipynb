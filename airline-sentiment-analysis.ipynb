{
 "cells": [
  {
   "cell_type": "code",
   "execution_count": 1,
   "metadata": {
    "_cell_guid": "b1076dfc-b9ad-4769-8c92-a6c4dae69d19",
    "_uuid": "8f2839f25d086af736a60e9eeb907d3b93b6e0e5",
    "tags": []
   },
   "outputs": [],
   "source": [
    "import pandas as pd # data processing, CSV file I/O (e.g. pd.read_csv)\n",
    "import os\n",
    "dataset = pd.read_csv(r'tweets.csv')"
   ]
  },
  {
   "cell_type": "code",
   "execution_count": null,
   "metadata": {
    "_cell_guid": "79c7e3d0-c299-4dcb-8224-4455121ee9b0",
    "_uuid": "d629ff2d2480ee46fbb7e2d37f6b5fab8052498a",
    "tags": []
   },
   "outputs": [],
   "source": [
    "dataset.head()"
   ]
  },
  {
   "cell_type": "markdown",
   "metadata": {
    "_uuid": "ca99e95535bda6264344a6d3fa71f9f864ba67a0"
   },
   "source": [
    "**#return percentage of every columns missing value , cols which have >90% missing values then drop them**"
   ]
  },
  {
   "cell_type": "code",
   "execution_count": 3,
   "metadata": {
    "_uuid": "294699965832feddafb3f74b3bc2c209abb4b7c1",
    "tags": []
   },
   "outputs": [
    {
     "data": {
      "text/plain": [
       "tweet_id                        0.000000\n",
       "airline_sentiment               0.000000\n",
       "airline_sentiment_confidence    0.000000\n",
       "negativereason                  0.373087\n",
       "negativereason_confidence       0.281284\n",
       "airline                         0.000000\n",
       "airline_sentiment_gold          0.997268\n",
       "name                            0.000000\n",
       "negativereason_gold             0.997814\n",
       "retweet_count                   0.000000\n",
       "text                            0.000000\n",
       "tweet_coord                     0.930396\n",
       "tweet_created                   0.000000\n",
       "tweet_location                  0.323292\n",
       "user_timezone                   0.329235\n",
       "dtype: float64"
      ]
     },
     "execution_count": 3,
     "metadata": {},
     "output_type": "execute_result"
    }
   ],
   "source": [
    "(len(dataset) - dataset.count())/len(dataset)"
   ]
  },
  {
   "cell_type": "code",
   "execution_count": 4,
   "metadata": {
    "_uuid": "58d54a683cb483a0bb5b84038afaa9254d992e95",
    "tags": []
   },
   "outputs": [],
   "source": [
    "dataset = dataset.drop(['airline_sentiment_gold','negativereason_gold','tweet_coord'],axis=1)"
   ]
  },
  {
   "cell_type": "code",
   "execution_count": 5,
   "metadata": {
    "_uuid": "4d7b27193facba246ff1912859d84cfdaae602a2",
    "tags": []
   },
   "outputs": [
    {
     "data": {
      "text/html": [
       "<div>\n",
       "<style scoped>\n",
       "    .dataframe tbody tr th:only-of-type {\n",
       "        vertical-align: middle;\n",
       "    }\n",
       "\n",
       "    .dataframe tbody tr th {\n",
       "        vertical-align: top;\n",
       "    }\n",
       "\n",
       "    .dataframe thead th {\n",
       "        text-align: right;\n",
       "    }\n",
       "</style>\n",
       "<table border=\"1\" class=\"dataframe\">\n",
       "  <thead>\n",
       "    <tr style=\"text-align: right;\">\n",
       "      <th></th>\n",
       "      <th>tweet_id</th>\n",
       "      <th>airline_sentiment</th>\n",
       "      <th>airline_sentiment_confidence</th>\n",
       "      <th>negativereason</th>\n",
       "      <th>negativereason_confidence</th>\n",
       "      <th>airline</th>\n",
       "      <th>name</th>\n",
       "      <th>retweet_count</th>\n",
       "      <th>text</th>\n",
       "      <th>tweet_created</th>\n",
       "      <th>tweet_location</th>\n",
       "      <th>user_timezone</th>\n",
       "    </tr>\n",
       "  </thead>\n",
       "  <tbody>\n",
       "    <tr>\n",
       "      <th>0</th>\n",
       "      <td>570306133677760513</td>\n",
       "      <td>neutral</td>\n",
       "      <td>1.0000</td>\n",
       "      <td>NaN</td>\n",
       "      <td>NaN</td>\n",
       "      <td>Virgin America</td>\n",
       "      <td>cairdin</td>\n",
       "      <td>0</td>\n",
       "      <td>@VirginAmerica What @dhepburn said.</td>\n",
       "      <td>2015-02-24 11:35:52 -0800</td>\n",
       "      <td>NaN</td>\n",
       "      <td>Eastern Time (US &amp; Canada)</td>\n",
       "    </tr>\n",
       "    <tr>\n",
       "      <th>1</th>\n",
       "      <td>570301130888122368</td>\n",
       "      <td>positive</td>\n",
       "      <td>0.3486</td>\n",
       "      <td>NaN</td>\n",
       "      <td>0.0</td>\n",
       "      <td>Virgin America</td>\n",
       "      <td>jnardino</td>\n",
       "      <td>0</td>\n",
       "      <td>@VirginAmerica plus you've added commercials t...</td>\n",
       "      <td>2015-02-24 11:15:59 -0800</td>\n",
       "      <td>NaN</td>\n",
       "      <td>Pacific Time (US &amp; Canada)</td>\n",
       "    </tr>\n",
       "    <tr>\n",
       "      <th>2</th>\n",
       "      <td>570301083672813571</td>\n",
       "      <td>neutral</td>\n",
       "      <td>0.6837</td>\n",
       "      <td>NaN</td>\n",
       "      <td>NaN</td>\n",
       "      <td>Virgin America</td>\n",
       "      <td>yvonnalynn</td>\n",
       "      <td>0</td>\n",
       "      <td>@VirginAmerica I didn't today... Must mean I n...</td>\n",
       "      <td>2015-02-24 11:15:48 -0800</td>\n",
       "      <td>Lets Play</td>\n",
       "      <td>Central Time (US &amp; Canada)</td>\n",
       "    </tr>\n",
       "  </tbody>\n",
       "</table>\n",
       "</div>"
      ],
      "text/plain": [
       "             tweet_id airline_sentiment  airline_sentiment_confidence  \\\n",
       "0  570306133677760513           neutral                        1.0000   \n",
       "1  570301130888122368          positive                        0.3486   \n",
       "2  570301083672813571           neutral                        0.6837   \n",
       "\n",
       "  negativereason  negativereason_confidence         airline        name  \\\n",
       "0            NaN                        NaN  Virgin America     cairdin   \n",
       "1            NaN                        0.0  Virgin America    jnardino   \n",
       "2            NaN                        NaN  Virgin America  yvonnalynn   \n",
       "\n",
       "   retweet_count                                               text  \\\n",
       "0              0                @VirginAmerica What @dhepburn said.   \n",
       "1              0  @VirginAmerica plus you've added commercials t...   \n",
       "2              0  @VirginAmerica I didn't today... Must mean I n...   \n",
       "\n",
       "               tweet_created tweet_location               user_timezone  \n",
       "0  2015-02-24 11:35:52 -0800            NaN  Eastern Time (US & Canada)  \n",
       "1  2015-02-24 11:15:59 -0800            NaN  Pacific Time (US & Canada)  \n",
       "2  2015-02-24 11:15:48 -0800      Lets Play  Central Time (US & Canada)  "
      ]
     },
     "execution_count": 5,
     "metadata": {},
     "output_type": "execute_result"
    }
   ],
   "source": [
    "dataset.head(3)"
   ]
  },
  {
   "cell_type": "code",
   "execution_count": 6,
   "metadata": {
    "_uuid": "e43b3fd164045b0f2cd01f4bfcb92b2f414eb39e",
    "tags": []
   },
   "outputs": [],
   "source": [
    "mood_count=dataset['airline_sentiment'].value_counts()"
   ]
  },
  {
   "cell_type": "code",
   "execution_count": 7,
   "metadata": {
    "_uuid": "dd308da505ed9bedebb19be444149dea7cbbb74c",
    "tags": []
   },
   "outputs": [
    {
     "data": {
      "text/plain": [
       "negative    9178\n",
       "neutral     3099\n",
       "positive    2363\n",
       "Name: airline_sentiment, dtype: int64"
      ]
     },
     "execution_count": 7,
     "metadata": {},
     "output_type": "execute_result"
    }
   ],
   "source": [
    "mood_count"
   ]
  },
  {
   "cell_type": "code",
   "execution_count": 8,
   "metadata": {
    "_uuid": "242fcc9497f51c2684fc69b7912d43ac475c3309",
    "tags": []
   },
   "outputs": [],
   "source": [
    "import seaborn as sns\n",
    "import matplotlib.pyplot as plt"
   ]
  },
  {
   "cell_type": "markdown",
   "metadata": {
    "_uuid": "b2b5f3403bfab297e6b8ecaa521147a7f8061953"
   },
   "source": [
    "**Graphical representation of airline sentiment :-**"
   ]
  },
  {
   "cell_type": "code",
   "execution_count": 9,
   "metadata": {
    "_uuid": "1565d21c0d875b0ae65bc2299a726e9f4bd644a5",
    "tags": []
   },
   "outputs": [
    {
     "data": {
      "image/png": "[encoded data removed]",
      "text/plain": [
       "<Figure size 432x288 with 1 Axes>"
      ]
     },
     "metadata": {
      "needs_background": "light"
     },
     "output_type": "display_data"
    }
   ],
   "source": [
    "sns.countplot(x='airline_sentiment',data=dataset,order=['negative','neutral','positive'])\n",
    "plt.show()"
   ]
  },
  {
   "cell_type": "markdown",
   "metadata": {
    "_uuid": "8a18a633b7d369d2c2ba21e887ce2beec5b7be9a"
   },
   "source": [
    "**Graphical representation of airline sentiment with airlines:-** "
   ]
  },
  {
   "cell_type": "code",
   "execution_count": 10,
   "metadata": {
    "_uuid": "7268155e35c425ec8c38c377c1e3b1f1fe8e6d7a",
    "tags": []
   },
   "outputs": [
    {
     "data": {
      "image/png": "[encoded data removed]",
      "text/plain": [
       "<Figure size 518.4x576 with 6 Axes>"
      ]
     },
     "metadata": {
      "needs_background": "light"
     },
     "output_type": "display_data"
    }
   ],
   "source": [
    "sns.catplot(x = 'airline_sentiment',data=dataset,\n",
    "               order = ['negative','neutral','positive'],kind = 'count',col_wrap=3,col='airline',height=4,aspect=0.6,sharex=False,sharey=False)\n",
    "plt.show()"
   ]
  },
  {
   "cell_type": "code",
   "execution_count": 11,
   "metadata": {
    "_uuid": "10131fba086f39710e5b25735270e653c1cd9a94",
    "tags": []
   },
   "outputs": [
    {
     "data": {
      "text/plain": [
       "Customer Service Issue         2910\n",
       "Late Flight                    1665\n",
       "Can't Tell                     1190\n",
       "Cancelled Flight                847\n",
       "Lost Luggage                    724\n",
       "Bad Flight                      580\n",
       "Flight Booking Problems         529\n",
       "Flight Attendant Complaints     481\n",
       "longlines                       178\n",
       "Damaged Luggage                  74\n",
       "Name: negativereason, dtype: int64"
      ]
     },
     "execution_count": 11,
     "metadata": {},
     "output_type": "execute_result"
    }
   ],
   "source": [
    "dataset['negativereason'].value_counts()"
   ]
  },
  {
   "cell_type": "markdown",
   "metadata": {
    "_uuid": "f68513ea985414a1536971c82cb3fc2d1f171d8e"
   },
   "source": [
    "**Graphical representation of negativereason towards airlines:-**"
   ]
  },
  {
   "cell_type": "code",
   "execution_count": 12,
   "metadata": {
    "_uuid": "85bc2b9ae69b22d0c1f9fe38b80cc0c439312c67",
    "tags": []
   },
   "outputs": [
    {
     "name": "stderr",
     "output_type": "stream",
     "text": [
      "/home/cdsw/.local/lib/python3.7/site-packages/seaborn/categorical.py:3717: UserWarning: The `factorplot` function has been renamed to `catplot`. The original name will be removed in a future release. Please update your code. Note that the default `kind` in `factorplot` (`'point'`) has changed `'strip'` in `catplot`.\n",
      "  warnings.warn(msg)\n",
      "/home/cdsw/.local/lib/python3.7/site-packages/seaborn/categorical.py:3723: UserWarning: The `size` parameter has been renamed to `height`; please update your code.\n",
      "  warnings.warn(msg, UserWarning)\n"
     ]
    },
    {
     "data": {
      "image/png": "[encoded data removed]",
      "text/plain": [
       "<Figure size 953.85x864 with 1 Axes>"
      ]
     },
     "metadata": {
      "needs_background": "light"
     },
     "output_type": "display_data"
    }
   ],
   "source": [
    "sns.factorplot(x = 'airline',data = dataset,kind = 'count',hue='negativereason',size=12,aspect=.9)\n",
    "plt.show()"
   ]
  },
  {
   "cell_type": "markdown",
   "metadata": {
    "_uuid": "4635e465a43fb16b978a498cdd749f655c4c0d51"
   },
   "source": [
    "both above and below graph are same and for show the negative comment reason on different airlines"
   ]
  },
  {
   "cell_type": "code",
   "execution_count": 13,
   "metadata": {
    "_uuid": "ffa067d5dd27e75b99a3d38770502f9d4ae63b9f",
    "tags": []
   },
   "outputs": [
    {
     "name": "stderr",
     "output_type": "stream",
     "text": [
      "/home/cdsw/.local/lib/python3.7/site-packages/seaborn/categorical.py:3717: UserWarning: The `factorplot` function has been renamed to `catplot`. The original name will be removed in a future release. Please update your code. Note that the default `kind` in `factorplot` (`'point'`) has changed `'strip'` in `catplot`.\n",
      "  warnings.warn(msg)\n",
      "/home/cdsw/.local/lib/python3.7/site-packages/seaborn/categorical.py:3723: UserWarning: The `size` parameter has been renamed to `height`; please update your code.\n",
      "  warnings.warn(msg, UserWarning)\n",
      "/home/cdsw/.local/lib/python3.7/site-packages/seaborn/categorical.py:3806: UserWarning: Setting `sharex=False` with `color=None` may cause different levels of the `x` variable to share colors. This will change in a future version.\n",
      "  warnings.warn(msg.format(\"sharex\", \"x\"), UserWarning)\n"
     ]
    },
    {
     "data": {
      "image/png": "[encoded data removed]",
      "text/plain": [
       "<Figure size 1036.8x1944 with 6 Axes>"
      ]
     },
     "metadata": {
      "needs_background": "light"
     },
     "output_type": "display_data"
    }
   ],
   "source": [
    "sns.factorplot(x = 'negativereason',data=dataset,kind='count',col='airline',size=9,aspect=.8,col_wrap=2,sharex=False,sharey=False)\n",
    "plt.show()"
   ]
  },
  {
   "cell_type": "markdown",
   "metadata": {
    "_uuid": "cda4288c7fadab954dc6f448bdc9b0ef0d09bd9b"
   },
   "source": [
    "**Data Cleaning and Preprocessing :-**"
   ]
  },
  {
   "cell_type": "code",
   "execution_count": 14,
   "metadata": {
    "_uuid": "befa85a955170752cd3d5cb0b8e3c4e44e575c90",
    "tags": []
   },
   "outputs": [],
   "source": [
    "import re\n",
    "import nltk\n",
    "import time"
   ]
  },
  {
   "cell_type": "code",
   "execution_count": 15,
   "metadata": {
    "_uuid": "4b0882c92814a4009027a76e6f06992ee4d6465c",
    "tags": []
   },
   "outputs": [],
   "source": [
    "start_time = time.time()\n",
    "#remove words which are starts with @ symbols\n",
    "dataset['text'] = dataset['text'].map(lambda x:re.sub('@\\w*','',str(x)))\n",
    "#remove special characters except [a-zA-Z]\n",
    "dataset['text'] = dataset['text'].map(lambda x:re.sub('[^a-zA-Z]',' ',str(x)))\n",
    "#remove link starts with https\n",
    "dataset['text'] = dataset['text'].map(lambda x:re.sub('http.*','',str(x)))\n",
    "end_time = time.time()"
   ]
  },
  {
   "cell_type": "code",
   "execution_count": 16,
   "metadata": {
    "_uuid": "76c6a7cc21eee7ef6b497993a69b2bb712ad4160",
    "tags": []
   },
   "outputs": [
    {
     "data": {
      "text/plain": [
       "0.14177513122558594"
      ]
     },
     "execution_count": 16,
     "metadata": {},
     "output_type": "execute_result"
    }
   ],
   "source": [
    "#total time consume to filter data\n",
    "end_time-start_time"
   ]
  },
  {
   "cell_type": "code",
   "execution_count": 17,
   "metadata": {
    "_uuid": "ed0c4906652f282eddf683b03720c7add0f6bf4f",
    "tags": []
   },
   "outputs": [
    {
     "data": {
      "text/plain": [
       "0                                          What  said \n",
       "1     plus you ve added commercials to the experien...\n",
       "2     I didn t today    Must mean I need to take an...\n",
       "3     it s really aggressive to blast obnoxious  en...\n",
       "4             and it s a really big bad thing about it\n",
       "Name: text, dtype: object"
      ]
     },
     "execution_count": 17,
     "metadata": {},
     "output_type": "execute_result"
    }
   ],
   "source": [
    "dataset['text'].head()"
   ]
  },
  {
   "cell_type": "code",
   "execution_count": 18,
   "metadata": {
    "_uuid": "a1e90abd36ed383d1c50a0808d2f3f57cecdb402",
    "tags": []
   },
   "outputs": [],
   "source": [
    "dataset['text'] = dataset['text'].map(lambda x:str(x).lower())"
   ]
  },
  {
   "cell_type": "code",
   "execution_count": 19,
   "metadata": {
    "_uuid": "b7efb71bcec6f168202aa88ee718f1927babba94",
    "tags": []
   },
   "outputs": [
    {
     "data": {
      "text/plain": [
       "0                                          what  said \n",
       "1     plus you ve added commercials to the experien...\n",
       "Name: text, dtype: object"
      ]
     },
     "execution_count": 19,
     "metadata": {},
     "output_type": "execute_result"
    }
   ],
   "source": [
    "dataset['text'].head(2)"
   ]
  },
  {
   "cell_type": "code",
   "execution_count": 20,
   "metadata": {},
   "outputs": [],
   "source": [
    "# nltk.download()"
   ]
  },
  {
   "cell_type": "code",
   "execution_count": 21,
   "metadata": {
    "_uuid": "4e57796847846faf28f88ea09fa4062a106d879b",
    "tags": []
   },
   "outputs": [],
   "source": [
    "from nltk.corpus import stopwords"
   ]
  },
  {
   "cell_type": "code",
   "execution_count": 22,
   "metadata": {
    "_uuid": "ad4fa1ed58ca9077ce2f091bd40030bcfe924f4c",
    "tags": []
   },
   "outputs": [],
   "source": [
    "corpus = []"
   ]
  },
  {
   "cell_type": "markdown",
   "metadata": {
    "_uuid": "0545bec0fe27b44cfc623c48cac7937dfe196d6f"
   },
   "source": [
    "* Remove stopwords from comments \n",
    "* Not used  PorterStemmer to make words pure"
   ]
  },
  {
   "cell_type": "code",
   "execution_count": 23,
   "metadata": {
    "_uuid": "892d76cb0e952441cbba418cae28ca10ef6341cc",
    "tags": []
   },
   "outputs": [],
   "source": [
    "none=dataset['text'].map(lambda x:corpus.append(' '.join([word for word in str(x).strip().split() if not word in set(stopwords.words('english'))])))                                     "
   ]
  },
  {
   "cell_type": "code",
   "execution_count": 24,
   "metadata": {
    "_uuid": "d6746b276345256d962dce5d60bc7bc62744df50",
    "tags": []
   },
   "outputs": [
    {
     "data": {
      "text/plain": [
       "['said',\n",
       " 'plus added commercials experience tacky',\n",
       " 'today must mean need take another trip',\n",
       " 'really aggressive blast obnoxious entertainment guests faces amp little recourse']"
      ]
     },
     "execution_count": 24,
     "metadata": {},
     "output_type": "execute_result"
    }
   ],
   "source": [
    "corpus[:4]"
   ]
  },
  {
   "cell_type": "markdown",
   "metadata": {
    "_uuid": "365a110d20889468747f5d55ca6362bfaa4b5af6"
   },
   "source": [
    "**Training Part :-**"
   ]
  },
  {
   "cell_type": "code",
   "execution_count": 25,
   "metadata": {
    "_uuid": "5367c4d8cc6e8cb5e15814439eccffa1ee4f5732",
    "tags": []
   },
   "outputs": [],
   "source": [
    "X = pd.DataFrame(data=corpus,columns=['comment_text'])"
   ]
  },
  {
   "cell_type": "code",
   "execution_count": 26,
   "metadata": {
    "_uuid": "572899f21356187e921901ef0f729d682aabacae",
    "tags": []
   },
   "outputs": [
    {
     "data": {
      "text/html": [
       "<div>\n",
       "<style scoped>\n",
       "    .dataframe tbody tr th:only-of-type {\n",
       "        vertical-align: middle;\n",
       "    }\n",
       "\n",
       "    .dataframe tbody tr th {\n",
       "        vertical-align: top;\n",
       "    }\n",
       "\n",
       "    .dataframe thead th {\n",
       "        text-align: right;\n",
       "    }\n",
       "</style>\n",
       "<table border=\"1\" class=\"dataframe\">\n",
       "  <thead>\n",
       "    <tr style=\"text-align: right;\">\n",
       "      <th></th>\n",
       "      <th>comment_text</th>\n",
       "    </tr>\n",
       "  </thead>\n",
       "  <tbody>\n",
       "    <tr>\n",
       "      <th>0</th>\n",
       "      <td>said</td>\n",
       "    </tr>\n",
       "    <tr>\n",
       "      <th>1</th>\n",
       "      <td>plus added commercials experience tacky</td>\n",
       "    </tr>\n",
       "    <tr>\n",
       "      <th>2</th>\n",
       "      <td>today must mean need take another trip</td>\n",
       "    </tr>\n",
       "    <tr>\n",
       "      <th>3</th>\n",
       "      <td>really aggressive blast obnoxious entertainmen...</td>\n",
       "    </tr>\n",
       "    <tr>\n",
       "      <th>4</th>\n",
       "      <td>really big bad thing</td>\n",
       "    </tr>\n",
       "  </tbody>\n",
       "</table>\n",
       "</div>"
      ],
      "text/plain": [
       "                                        comment_text\n",
       "0                                               said\n",
       "1            plus added commercials experience tacky\n",
       "2             today must mean need take another trip\n",
       "3  really aggressive blast obnoxious entertainmen...\n",
       "4                               really big bad thing"
      ]
     },
     "execution_count": 26,
     "metadata": {},
     "output_type": "execute_result"
    }
   ],
   "source": [
    "X.head()"
   ]
  },
  {
   "cell_type": "code",
   "execution_count": 27,
   "metadata": {
    "_uuid": "9cbc55936a5fb41dcc7ed4579a68b92fd891c12a",
    "tags": []
   },
   "outputs": [],
   "source": [
    "y = dataset['airline_sentiment'].map({'neutral':1,'negative':-1,'positive':1})"
   ]
  },
  {
   "cell_type": "code",
   "execution_count": 28,
   "metadata": {
    "_uuid": "e652a8842a11467f2a5d4234bcca359d063fe88e",
    "tags": []
   },
   "outputs": [
    {
     "data": {
      "text/plain": [
       "0    1\n",
       "1    1\n",
       "Name: airline_sentiment, dtype: int64"
      ]
     },
     "execution_count": 28,
     "metadata": {},
     "output_type": "execute_result"
    }
   ],
   "source": [
    "y.head(2)"
   ]
  },
  {
   "cell_type": "markdown",
   "metadata": {
    "_uuid": "1db1a4388f5641bc40cc9caa4e7631271145eece"
   },
   "source": [
    "Split data into Train and Test:-"
   ]
  },
  {
   "cell_type": "code",
   "execution_count": 29,
   "metadata": {
    "_uuid": "576f7d1c42f95b3f4f1f7dd4e0fc6a3c6c470f03",
    "tags": []
   },
   "outputs": [],
   "source": [
    "from sklearn.model_selection import train_test_split"
   ]
  },
  {
   "cell_type": "code",
   "execution_count": 30,
   "metadata": {
    "_uuid": "4cdd51ca4f4014205a8e179c0b3f578f10086730",
    "tags": []
   },
   "outputs": [],
   "source": [
    "X_train,X_test,y_train,y_test = train_test_split(X,y,test_size=0.2,random_state=0)"
   ]
  },
  {
   "cell_type": "code",
   "execution_count": 31,
   "metadata": {
    "_uuid": "0b95b46457c3409012ae8fa8e34419e79110d10e",
    "tags": []
   },
   "outputs": [
    {
     "name": "stdout",
     "output_type": "stream",
     "text": [
      "(11712, 1) (2928, 1) (11712,) (2928,)\n"
     ]
    }
   ],
   "source": [
    "print(X_train.shape,X_test.shape,y_train.shape,y_test.shape)"
   ]
  },
  {
   "cell_type": "markdown",
   "metadata": {
    "_uuid": "7281ccbd591bec9c29c68fc7f460da6b4fa96565"
   },
   "source": [
    "Use TfidfVectorizer for feature extraction :-"
   ]
  },
  {
   "cell_type": "code",
   "execution_count": 32,
   "metadata": {
    "_uuid": "f533147b4f501b62f1e904d25ea3ad442a09e3d9",
    "tags": []
   },
   "outputs": [],
   "source": [
    "from sklearn.feature_extraction.text import TfidfVectorizer"
   ]
  },
  {
   "cell_type": "code",
   "execution_count": 33,
   "metadata": {
    "_uuid": "5dc8b2874f84893165680b76327287d33674fd86",
    "tags": []
   },
   "outputs": [],
   "source": [
    "vector = TfidfVectorizer(stop_words='english',sublinear_tf=True,strip_accents='unicode',analyzer='word',token_pattern=r'\\w{2,}',ngram_range=(1,1),max_features=30000)\n",
    "#token_patten #2 for word length greater than 2>="
   ]
  },
  {
   "cell_type": "code",
   "execution_count": 34,
   "metadata": {
    "_uuid": "575012f03869da916cd9f88a01f8407934cf9dad",
    "tags": []
   },
   "outputs": [],
   "source": [
    "X_train_word_feature = vector.fit_transform(X_train['comment_text']).toarray()"
   ]
  },
  {
   "cell_type": "code",
   "execution_count": 35,
   "metadata": {
    "_uuid": "07bf96f9c490253fadd1302df480b0144a0dbc8c",
    "tags": []
   },
   "outputs": [],
   "source": [
    "X_test_word_feature = vector.transform(X_test['comment_text']).toarray()"
   ]
  },
  {
   "cell_type": "code",
   "execution_count": 36,
   "metadata": {
    "_uuid": "73df2a303299790718843395f2ff41d107d0024f",
    "tags": []
   },
   "outputs": [
    {
     "name": "stdout",
     "output_type": "stream",
     "text": [
      "(11712, 9674) (2928, 9674)\n"
     ]
    }
   ],
   "source": [
    "print(X_train_word_feature.shape,X_test_word_feature.shape)"
   ]
  },
  {
   "cell_type": "markdown",
   "metadata": {
    "_uuid": "e77d333cfe2ac120c042790b053bd7c6a42780f0"
   },
   "source": [
    "Model Training :-"
   ]
  },
  {
   "cell_type": "code",
   "execution_count": 37,
   "metadata": {
    "_uuid": "252b22cb2e4ddb47c4d40f556bdc852b7b006e7e",
    "tags": []
   },
   "outputs": [],
   "source": [
    "from sklearn.linear_model import LogisticRegression"
   ]
  },
  {
   "cell_type": "code",
   "execution_count": 38,
   "metadata": {
    "_uuid": "a67ac749f79b261f364f628c1fcf7f0d35ff5b47",
    "tags": []
   },
   "outputs": [],
   "source": [
    "from sklearn.metrics import confusion_matrix,classification_report,accuracy_score"
   ]
  },
  {
   "cell_type": "code",
   "execution_count": 39,
   "metadata": {
    "_uuid": "a5992f7d2da565b8426a0f28459b53ed8c8ff473",
    "tags": []
   },
   "outputs": [],
   "source": [
    "classifier = LogisticRegression()"
   ]
  },
  {
   "cell_type": "code",
   "execution_count": 40,
   "metadata": {
    "_uuid": "49df70331cad9c2add75f5b0acc67342c5f5155d",
    "tags": []
   },
   "outputs": [
    {
     "data": {
      "text/plain": [
       "LogisticRegression()"
      ]
     },
     "execution_count": 40,
     "metadata": {},
     "output_type": "execute_result"
    }
   ],
   "source": [
    "classifier.fit(X_train_word_feature,y_train)"
   ]
  },
  {
   "cell_type": "code",
   "execution_count": 41,
   "metadata": {
    "_uuid": "a215756d1c1bc205b1545e226f158deea071da98",
    "tags": []
   },
   "outputs": [],
   "source": [
    "y_pred = classifier.predict(X_test_word_feature)"
   ]
  },
  {
   "cell_type": "code",
   "execution_count": 42,
   "metadata": {
    "_uuid": "5d5a163fef004e94f70c64dcb645476b7cc92dbd",
    "tags": []
   },
   "outputs": [],
   "source": [
    "cm = confusion_matrix(y_test,y_pred)"
   ]
  },
  {
   "cell_type": "code",
   "execution_count": 43,
   "metadata": {
    "_uuid": "0eff723f794703e471e7cbaca6f7cf2e17108de5",
    "tags": []
   },
   "outputs": [],
   "source": [
    "acc_score = accuracy_score(y_test,y_pred)"
   ]
  },
  {
   "cell_type": "code",
   "execution_count": 44,
   "metadata": {
    "_uuid": "e6d231b84beed3cc851f9d14762b57df051f84dc",
    "tags": []
   },
   "outputs": [
    {
     "name": "stdout",
     "output_type": "stream",
     "text": [
      "              precision    recall  f1-score   support\n",
      "\n",
      "          -1       0.82      0.90      0.86      1870\n",
      "           1       0.79      0.64      0.71      1058\n",
      "\n",
      "    accuracy                           0.81      2928\n",
      "   macro avg       0.80      0.77      0.78      2928\n",
      "weighted avg       0.81      0.81      0.80      2928\n",
      " \n",
      " [[1687  183]\n",
      " [ 377  681]] \n",
      " 0.8087431693989071\n"
     ]
    }
   ],
   "source": [
    "print(classification_report(y_test,y_pred),'\\n',cm,'\\n',acc_score)"
   ]
  },
  {
   "cell_type": "code",
   "execution_count": 45,
   "metadata": {
    "_uuid": "e95a6323cd333142c0a1ee73c7cab7ca9c622527",
    "tags": []
   },
   "outputs": [],
   "source": [
    "y_pred_prob = classifier.predict_proba(X_train_word_feature)"
   ]
  },
  {
   "cell_type": "markdown",
   "metadata": {
    "_uuid": "5fdf18c4d419da8c8e9cc6f0e8ee5297faac9a54"
   },
   "source": [
    "To determine probability of negative or positive comment :-"
   ]
  },
  {
   "cell_type": "code",
   "execution_count": 46,
   "metadata": {
    "_uuid": "2d3d1e4ab56f4a4927fa5392e19ae8b20a6a4438",
    "tags": []
   },
   "outputs": [
    {
     "data": {
      "text/plain": [
       "array([[0.67400743, 0.32599257],\n",
       "       [0.88791131, 0.11208869],\n",
       "       [0.82520187, 0.17479813],\n",
       "       [0.99258803, 0.00741197],\n",
       "       [0.24144253, 0.75855747]])"
      ]
     },
     "execution_count": 46,
     "metadata": {},
     "output_type": "execute_result"
    }
   ],
   "source": [
    "y_pred_prob[:5]"
   ]
  },
  {
   "cell_type": "code",
   "execution_count": null,
   "metadata": {},
   "outputs": [],
   "source": []
  },
  {
   "cell_type": "raw",
   "metadata": {},
   "source": []
  }
 ],
 "metadata": {
  "kernelspec": {
   "display_name": "Python 3",
   "language": "python",
   "name": "python3"
  },
  "language_info": {
   "codemirror_mode": {
    "name": "ipython",
    "version": 3
   },
   "file_extension": ".py",
   "mimetype": "text/x-python",
   "name": "python",
   "nbconvert_exporter": "python",
   "pygments_lexer": "ipython3",
   "version": "3.7.12"
  }
 },
 "nbformat": 4,
 "nbformat_minor": 4
}
